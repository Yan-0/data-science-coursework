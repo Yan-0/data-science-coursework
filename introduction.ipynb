{
 "cells": [
  {
   "cell_type": "markdown",
   "id": "b55ca97b",
   "metadata": {},
   "source": [
    "### Python Introduction"
   ]
  },
  {
   "cell_type": "markdown",
   "id": "f0638b65",
   "metadata": {},
   "source": [
    "##### List"
   ]
  },
  {
   "cell_type": "code",
   "execution_count": 11,
   "id": "12ee6286",
   "metadata": {},
   "outputs": [
    {
     "data": {
      "text/plain": [
       "[1, 2, 3, 4, 5, 6]"
      ]
     },
     "execution_count": 11,
     "metadata": {},
     "output_type": "execute_result"
    }
   ],
   "source": [
    "list_a = [1,2,3,4,5,6]\n",
    "list_a"
   ]
  },
  {
   "cell_type": "code",
   "execution_count": 2,
   "id": "dcd3783a",
   "metadata": {},
   "outputs": [
    {
     "data": {
      "text/plain": [
       "list"
      ]
     },
     "execution_count": 2,
     "metadata": {},
     "output_type": "execute_result"
    }
   ],
   "source": [
    "type(list_a)"
   ]
  },
  {
   "cell_type": "markdown",
   "id": "5fa7b940",
   "metadata": {},
   "source": [
    "##### Append"
   ]
  },
  {
   "cell_type": "code",
   "execution_count": 3,
   "id": "070327f4",
   "metadata": {},
   "outputs": [],
   "source": [
    "list_a.append(\"YO\")"
   ]
  },
  {
   "cell_type": "code",
   "execution_count": 4,
   "id": "e6477b76",
   "metadata": {},
   "outputs": [
    {
     "data": {
      "text/plain": [
       "[1, 2, 3, 4, 5, 6, 'YO']"
      ]
     },
     "execution_count": 4,
     "metadata": {},
     "output_type": "execute_result"
    }
   ],
   "source": [
    "list_a"
   ]
  },
  {
   "cell_type": "code",
   "execution_count": 5,
   "id": "fc405254",
   "metadata": {},
   "outputs": [],
   "source": [
    "list_b = [2,5,10,20]\n"
   ]
  },
  {
   "cell_type": "code",
   "execution_count": 6,
   "id": "4b6a6804",
   "metadata": {},
   "outputs": [
    {
     "data": {
      "text/plain": [
       "[2, 5, 10, 20, [1, 2, 3, 4, 5, 6, 'YO']]"
      ]
     },
     "execution_count": 6,
     "metadata": {},
     "output_type": "execute_result"
    }
   ],
   "source": [
    "list_b.append(list_a)\n",
    "list_b"
   ]
  },
  {
   "cell_type": "code",
   "execution_count": 7,
   "id": "e03ad0d9",
   "metadata": {},
   "outputs": [
    {
     "data": {
      "text/plain": [
       "7"
      ]
     },
     "execution_count": 7,
     "metadata": {},
     "output_type": "execute_result"
    }
   ],
   "source": [
    "len(list_a)"
   ]
  },
  {
   "cell_type": "code",
   "execution_count": 8,
   "id": "96ce2852",
   "metadata": {},
   "outputs": [
    {
     "data": {
      "text/plain": [
       "5"
      ]
     },
     "execution_count": 8,
     "metadata": {},
     "output_type": "execute_result"
    }
   ],
   "source": [
    "len(list_b)"
   ]
  },
  {
   "cell_type": "code",
   "execution_count": 9,
   "id": "4447e59c",
   "metadata": {},
   "outputs": [
    {
     "ename": "NameError",
     "evalue": "name 'b' is not defined",
     "output_type": "error",
     "traceback": [
      "\u001b[1;31m---------------------------------------------------------------------------\u001b[0m",
      "\u001b[1;31mNameError\u001b[0m                                 Traceback (most recent call last)",
      "Cell \u001b[1;32mIn[9], line 1\u001b[0m\n\u001b[1;32m----> 1\u001b[0m b[\u001b[38;5;241m0\u001b[39m]\n",
      "\u001b[1;31mNameError\u001b[0m: name 'b' is not defined"
     ]
    }
   ],
   "source": [
    "b[0]"
   ]
  },
  {
   "cell_type": "code",
   "execution_count": null,
   "id": "89efa3f3",
   "metadata": {},
   "outputs": [],
   "source": [
    "list_b[0]"
   ]
  },
  {
   "cell_type": "code",
   "execution_count": null,
   "id": "7ccf927c",
   "metadata": {},
   "outputs": [],
   "source": [
    "list_b[-1]"
   ]
  },
  {
   "cell_type": "code",
   "execution_count": null,
   "id": "5565210f",
   "metadata": {},
   "outputs": [],
   "source": [
    "list_b[-1][6]"
   ]
  },
  {
   "cell_type": "markdown",
   "id": "795c1892",
   "metadata": {},
   "source": [
    "##### Tuple (Immutable)"
   ]
  },
  {
   "cell_type": "code",
   "execution_count": 15,
   "id": "bd113b08",
   "metadata": {},
   "outputs": [],
   "source": [
    "tuple_c = (\"Hello\", \"Bye\", \"Back\")"
   ]
  },
  {
   "cell_type": "code",
   "execution_count": 16,
   "id": "a2b76d4f",
   "metadata": {},
   "outputs": [
    {
     "data": {
      "text/plain": [
       "('Hello', 'Bye', 'Back')"
      ]
     },
     "execution_count": 16,
     "metadata": {},
     "output_type": "execute_result"
    }
   ],
   "source": [
    "tuple_c"
   ]
  },
  {
   "cell_type": "markdown",
   "id": "cee88bfa",
   "metadata": {},
   "source": [
    "##### Extend"
   ]
  },
  {
   "cell_type": "code",
   "execution_count": 18,
   "id": "41235b10",
   "metadata": {},
   "outputs": [
    {
     "data": {
      "text/plain": [
       "[1, 2, 3, 4, 5, 6, 1, 2, 3, 1, 2, 3, 1, 2, 3, 'Hello', 'Bye', 'Back']"
      ]
     },
     "execution_count": 18,
     "metadata": {},
     "output_type": "execute_result"
    }
   ],
   "source": [
    "list_a.extend(tuple_c)\n",
    "list_a"
   ]
  },
  {
   "cell_type": "markdown",
   "id": "c436d4dc",
   "metadata": {},
   "source": [
    "##### Dictionary"
   ]
  },
  {
   "cell_type": "code",
   "execution_count": 19,
   "id": "b582b4e3",
   "metadata": {},
   "outputs": [
    {
     "data": {
      "text/plain": [
       "[1, 2, 3, 4, 5, 6, 1, 2, 3, 1, 2, 3, 1, 2, 3, 'Hello', 'Bye', 'Back', 1, 2, 3]"
      ]
     },
     "execution_count": 19,
     "metadata": {},
     "output_type": "execute_result"
    }
   ],
   "source": [
    "dict_d = {1:\"apple\", 2:\"ball\", 3:\"cat\"}\n",
    "list_a.extend(dict_d)\n",
    "list_a"
   ]
  },
  {
   "cell_type": "markdown",
   "id": "e972e94d",
   "metadata": {},
   "source": [
    "##### Keys and values"
   ]
  },
  {
   "cell_type": "code",
   "execution_count": 20,
   "id": "2c09b328",
   "metadata": {},
   "outputs": [
    {
     "data": {
      "text/plain": [
       "dict_keys([1, 2, 3])"
      ]
     },
     "execution_count": 20,
     "metadata": {},
     "output_type": "execute_result"
    }
   ],
   "source": [
    "dict_d.keys()"
   ]
  },
  {
   "cell_type": "code",
   "execution_count": 21,
   "id": "dcb26caf",
   "metadata": {},
   "outputs": [
    {
     "data": {
      "text/plain": [
       "dict_values(['apple', 'ball', 'cat'])"
      ]
     },
     "execution_count": 21,
     "metadata": {},
     "output_type": "execute_result"
    }
   ],
   "source": [
    "dict_d.values()"
   ]
  },
  {
   "cell_type": "markdown",
   "id": "a3410ed4",
   "metadata": {},
   "source": [
    "##### Range"
   ]
  },
  {
   "cell_type": "code",
   "execution_count": 24,
   "id": "719e0bf0",
   "metadata": {},
   "outputs": [
    {
     "name": "stdout",
     "output_type": "stream",
     "text": [
      "1\n",
      "2\n",
      "3\n",
      "4\n",
      "5\n",
      "6\n",
      "7\n",
      "8\n",
      "9\n",
      "10\n"
     ]
    }
   ],
   "source": [
    "for i in range(1,11):\n",
    "    print(i)"
   ]
  },
  {
   "cell_type": "markdown",
   "id": "bfc0d38b",
   "metadata": {},
   "source": [
    "##### Insert"
   ]
  },
  {
   "cell_type": "code",
   "execution_count": 25,
   "id": "aa7bb26c",
   "metadata": {},
   "outputs": [
    {
     "data": {
      "text/plain": [
       "['Design', 'very', 'humane']"
      ]
     },
     "execution_count": 25,
     "metadata": {},
     "output_type": "execute_result"
    }
   ],
   "source": [
    "list_f = [\"Design\", \"very\", \"humane\"]\n",
    "list_f"
   ]
  },
  {
   "cell_type": "code",
   "execution_count": 26,
   "id": "06d4a2c5",
   "metadata": {},
   "outputs": [],
   "source": [
    "list_f.insert(1, \"is\")"
   ]
  },
  {
   "cell_type": "code",
   "execution_count": 27,
   "id": "85c51212",
   "metadata": {},
   "outputs": [
    {
     "data": {
      "text/plain": [
       "['Design', 'is', 'very', 'humane']"
      ]
     },
     "execution_count": 27,
     "metadata": {},
     "output_type": "execute_result"
    }
   ],
   "source": [
    "list_f"
   ]
  },
  {
   "cell_type": "markdown",
   "id": "6c34ddc0",
   "metadata": {},
   "source": [
    "##### POP"
   ]
  },
  {
   "cell_type": "code",
   "execution_count": 28,
   "id": "973bc85a",
   "metadata": {},
   "outputs": [],
   "source": [
    "list_pop = [\"op\",\"pp\",\"pop\"]"
   ]
  },
  {
   "cell_type": "code",
   "execution_count": 29,
   "id": "6ee9bef3",
   "metadata": {},
   "outputs": [
    {
     "data": {
      "text/plain": [
       "'pop'"
      ]
     },
     "execution_count": 29,
     "metadata": {},
     "output_type": "execute_result"
    }
   ],
   "source": [
    "list_pop.pop()"
   ]
  },
  {
   "cell_type": "code",
   "execution_count": 30,
   "id": "463fe3b2",
   "metadata": {},
   "outputs": [
    {
     "data": {
      "text/plain": [
       "1"
      ]
     },
     "execution_count": 30,
     "metadata": {},
     "output_type": "execute_result"
    }
   ],
   "source": [
    "list_pop.index(\"pp\")"
   ]
  },
  {
   "cell_type": "code",
   "execution_count": 31,
   "id": "b094a998",
   "metadata": {},
   "outputs": [
    {
     "data": {
      "text/plain": [
       "['op', 'pp']"
      ]
     },
     "execution_count": 31,
     "metadata": {},
     "output_type": "execute_result"
    }
   ],
   "source": [
    "list_pop"
   ]
  },
  {
   "cell_type": "code",
   "execution_count": null,
   "id": "5acc307b",
   "metadata": {},
   "outputs": [],
   "source": []
  }
 ],
 "metadata": {
  "kernelspec": {
   "display_name": "Python 3 (ipykernel)",
   "language": "python",
   "name": "python3"
  },
  "language_info": {
   "codemirror_mode": {
    "name": "ipython",
    "version": 3
   },
   "file_extension": ".py",
   "mimetype": "text/x-python",
   "name": "python",
   "nbconvert_exporter": "python",
   "pygments_lexer": "ipython3",
   "version": "3.11.7"
  }
 },
 "nbformat": 4,
 "nbformat_minor": 5
}
